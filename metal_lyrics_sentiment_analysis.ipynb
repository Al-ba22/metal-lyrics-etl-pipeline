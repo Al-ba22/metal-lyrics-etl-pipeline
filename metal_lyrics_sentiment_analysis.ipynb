{
  "nbformat": 4,
  "nbformat_minor": 0,
  "metadata": {
    "colab": {
      "provenance": []
    },
    "kernelspec": {
      "name": "python3",
      "display_name": "Python 3"
    },
    "language_info": {
      "name": "python"
    }
  },
  "cells": [
    {
      "cell_type": "code",
      "execution_count": null,
      "metadata": {
        "id": "maM6bAwr1ADI"
      },
      "outputs": [],
      "source": [
        "import kagglehub\n",
        "\n",
        "# Download latest version\n",
        "path = kagglehub.dataset_download(\"markkorvin/large-metal-lyrics-archive-228k-songs\")\n",
        "\n",
        "print(\"Path to dataset files:\", path)"
      ]
    },
    {
      "cell_type": "code",
      "source": [
        "# Locate the file\n",
        "import os\n",
        "\n",
        "dataset_path = \"/root/.cache/kagglehub/datasets/markkorvin/large-metal-lyrics-archive-228k-songs/versions/3\"\n",
        "\n",
        "# List all files in the folder\n",
        "for file in os.listdir(dataset_path):\n",
        "    print(file)"
      ],
      "metadata": {
        "id": "WNLpTI3g1I8a"
      },
      "execution_count": null,
      "outputs": []
    },
    {
      "cell_type": "code",
      "source": [
        "# Load dataset and check it\n",
        "import pandas as pd\n",
        "\n",
        "file_path = dataset_path + \"/metal_lyrics.csv\"\n",
        "df = pd.read_csv(file_path)\n",
        "\n",
        "df.head()"
      ],
      "metadata": {
        "id": "sXMiOmRX1Lfh"
      },
      "execution_count": null,
      "outputs": []
    },
    {
      "cell_type": "code",
      "source": [
        "# Let's clean the dataset\n",
        "\n",
        "# Remove punctuation and special characters\n",
        "df.loc[:, 'lyrics_clean'] = df['Lyric'].str.replace(r'[^\\w\\s]', '', regex=True)\n",
        "\n",
        "# Convert to lowercase\n",
        "df.loc[:, 'lyrics_clean'] = df['lyrics_clean'].str.lower()\n",
        "\n",
        "# Remove empty or short lyrics\n",
        "df = df[(df['lyrics_clean'].notnull()) & (df['lyrics_clean'].str.len() > 30)].copy()\n",
        "\n",
        "# Strip excess whitespace\n",
        "df.loc[:, 'lyrics_clean'] = df['lyrics_clean'].str.strip()"
      ],
      "metadata": {
        "id": "cJRrm_-P1Nxn"
      },
      "execution_count": null,
      "outputs": []
    },
    {
      "cell_type": "code",
      "source": [
        "# Now that the dataset is clean, we can do Sentiment Scoring with TextBlob\n",
        "\n",
        "# Install the sentiment analysis library\n",
        "!pip install textblob\n",
        "\n",
        "# Load the class which will be used to analyze text\n",
        "from textblob import TextBlob\n",
        "\n",
        "# Create a sentiment scoring function\n",
        "def get_sentiment(text):\n",
        "  blob = TextBlob(text)\n",
        "  return blob.sentiment.polarity\n",
        "\n",
        "# Apply the function to the dataset\n",
        "df['sentiment'] = df['lyrics_clean'].apply(get_sentiment)\n",
        "\n",
        "# Explore the scores\n",
        "df['sentiment'].describe()"
      ],
      "metadata": {
        "id": "WVAto_uz1Qdj"
      },
      "execution_count": null,
      "outputs": []
    },
    {
      "cell_type": "code",
      "source": [
        "# Let's build a histogram of Sentiment Scores\n",
        "import matplotlib.pyplot as plt\n",
        "\n",
        "# Set the figure size for better readability\n",
        "plt.figure(figsize=(10, 6))\n",
        "\n",
        "# Plot histogram for the 'sentiment' column\n",
        "plt.hist(df['sentiment'], bins=50, color='darkred', edgecolor='black')\n",
        "\n",
        "# Add labels and title\n",
        "plt.title('Distribution of Sentiment in Metal Lyrics', fontsize=14)\n",
        "plt.xlabel('Sentiment Score (-1 = Negative, +1 = Positive)', fontsize=12)\n",
        "plt.ylabel('Number of Songs, fontsize=12')\n",
        "\n",
        "# Show grid for clarity\n",
        "plt.grid(axis='y', alpha=0.5)\n",
        "\n",
        "# Display the plot\n",
        "plt.show()"
      ],
      "metadata": {
        "id": "fyyDWyX21TQp"
      },
      "execution_count": null,
      "outputs": []
    },
    {
      "cell_type": "code",
      "source": [
        "#Validate trends numerically\n",
        "print(df['sentiment'].describe())"
      ],
      "metadata": {
        "id": "LI4BC3Nh1XN3"
      },
      "execution_count": null,
      "outputs": []
    },
    {
      "cell_type": "code",
      "source": [
        "# Calculate average sentiment per artist\n",
        "avg_sentiment_by_artist = df.groupby('Artist')['sentiment'].mean().sort_values()\n",
        "\n",
        "print(\"\\nTop 10 Artists by Average Negative Sentiment:\")\n",
        "print(avg_sentiment_by_artist.head(10))\n",
        "\n",
        "print(\"\\nTop 10 Artists by Average Positive Sentiment:\")\n",
        "print(avg_sentiment_by_artist.tail(10))"
      ],
      "metadata": {
        "id": "i2jBi71o1aln"
      },
      "execution_count": null,
      "outputs": []
    },
    {
      "cell_type": "code",
      "source": [
        "# Export dataset to CSV\n",
        "df.to_csv('metal_lyrics_cleaned.csv', index=False)"
      ],
      "metadata": {
        "id": "B2E30HOv1dAW"
      },
      "execution_count": null,
      "outputs": []
    }
  ]
}